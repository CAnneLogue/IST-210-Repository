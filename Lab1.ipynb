{
  "nbformat": 4,
  "nbformat_minor": 0,
  "metadata": {
    "colab": {
      "name": "Lab1.ipynb",
      "provenance": [],
      "authorship_tag": "ABX9TyPn2WJWHSe7Cnfp38te/+0f",
      "include_colab_link": true
    },
    "kernelspec": {
      "name": "python3",
      "display_name": "Python 3"
    }
  },
  "cells": [
    {
      "cell_type": "markdown",
      "metadata": {
        "id": "view-in-github",
        "colab_type": "text"
      },
      "source": [
        "<a href=\"https://colab.research.google.com/github/CAnneLogue/IST-210-Repository/blob/master/Lab1.ipynb\" target=\"_parent\"><img src=\"https://colab.research.google.com/assets/colab-badge.svg\" alt=\"Open In Colab\"/></a>"
      ]
    },
    {
      "cell_type": "markdown",
      "metadata": {
        "id": "uW0P9IXGFOrm",
        "colab_type": "text"
      },
      "source": [
        "### Carolyn Logue"
      ]
    },
    {
      "cell_type": "markdown",
      "metadata": {
        "id": "7fS3xxGdFPBX",
        "colab_type": "text"
      },
      "source": [
        "### IST Related Interests "
      ]
    },
    {
      "cell_type": "markdown",
      "metadata": {
        "id": "GDRcmKa2HJrj",
        "colab_type": "text"
      },
      "source": [
        "I'm interested in cloud computing, machine learning, software engineering, and the development of law, politics, and ethics that surround the cyber world. "
      ]
    },
    {
      "cell_type": "markdown",
      "metadata": {
        "id": "sXfTppIBFaPO",
        "colab_type": "text"
      },
      "source": [
        "### Future Career "
      ]
    },
    {
      "cell_type": "markdown",
      "metadata": {
        "id": "L6pFKWspHLjT",
        "colab_type": "text"
      },
      "source": [
        "As someone who is both lives near Washington DC and is majoring in cyber security, I expect my career will involve the some kind of government work. Currently I'm leaning towards being involved with defense contracting because that is what most of my family is involved in. "
      ]
    },
    {
      "cell_type": "markdown",
      "metadata": {
        "id": "KVN97S4zFguK",
        "colab_type": "text"
      },
      "source": [
        " ![alt text](https://raw.githubusercontent.com/CAnneLogue/IST-210-Repository/master/picture.JPG)"
      ]
    }
  ]
}