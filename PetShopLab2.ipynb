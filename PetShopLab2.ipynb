{
  "nbformat": 4,
  "nbformat_minor": 0,
  "metadata": {
    "colab": {
      "name": "PetShopLab2.ipynb",
      "provenance": [],
      "collapsed_sections": [],
      "authorship_tag": "ABX9TyPjq665knYThFx8G+r2tuum",
      "include_colab_link": true
    },
    "kernelspec": {
      "name": "python3",
      "display_name": "Python 3"
    }
  },
  "cells": [
    {
      "cell_type": "markdown",
      "metadata": {
        "id": "view-in-github",
        "colab_type": "text"
      },
      "source": [
        "<a href=\"https://colab.research.google.com/github/CAnneLogue/IST-210-Repository/blob/master/PetShopLab2.ipynb\" target=\"_parent\"><img src=\"https://colab.research.google.com/assets/colab-badge.svg\" alt=\"Open In Colab\"/></a>"
      ]
    },
    {
      "cell_type": "markdown",
      "metadata": {
        "id": "27U6qROegBRr",
        "colab_type": "text"
      },
      "source": [
        "## Lab 2: Pet Shop ER Diagram"
      ]
    },
    {
      "cell_type": "markdown",
      "metadata": {
        "id": "HoECkI-XhTLX",
        "colab_type": "text"
      },
      "source": [
        "Carolyn Logue"
      ]
    },
    {
      "cell_type": "markdown",
      "metadata": {
        "id": "X8GIfQWdgLLH",
        "colab_type": "text"
      },
      "source": [
        "![alt text](https://raw.githubusercontent.com/CAnneLogue/IST-210-Repository/master/Pet%20Shop%20ER%20Diagram.png)"
      ]
    },
    {
      "cell_type": "markdown",
      "metadata": {
        "id": "2OLGOR1DhM_z",
        "colab_type": "text"
      },
      "source": [
        "I chose to have my six ER Diagram tables represent Food Transactions, Pet Transaction, Customers, Pets, Food, and Enclosures. I chose to add an enclosure table to represent where the pets were kept, as well as in what type of environment. Any enclosure can have 0 to 5 pets, and a pet must be in an enclosure, but an enclosure does not have to have a pet in it. The customer table stores the customer’s ID as well as information that may be useful in billing. The customer ID is required for both pet and food transactions, and one customer could make multiple different purchases. In order for a customer to be a customer, they must purchase at least one pet or food item, and that item can only be purchased by a customer. A single pet can only be purchased by one customer in one transaction. Although, a single pet transaction can have up to five pets purchased in it. Although some pets may have similar or even the same attributes of species and weight, they will all have unique ID numbers. Single food items of the same brand and weight will share the same ID number, so therefore a food item with one ID number can be bought by multiple customers in multiple transactions. The food transaction will require one customer and one food item, but cannot have more than 30 food items. Both types of transactions can only be made by one customer because only one loyalty ID can be used."
      ]
    }
  ]
}