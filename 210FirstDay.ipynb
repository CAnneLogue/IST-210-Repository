{
  "nbformat": 4,
  "nbformat_minor": 0,
  "metadata": {
    "colab": {
      "name": "210FirstDay.ipynb",
      "provenance": [],
      "authorship_tag": "ABX9TyNUf2xov7f03AL/0sEksqpz",
      "include_colab_link": true
    },
    "kernelspec": {
      "name": "python3",
      "display_name": "Python 3"
    }
  },
  "cells": [
    {
      "cell_type": "markdown",
      "metadata": {
        "id": "view-in-github",
        "colab_type": "text"
      },
      "source": [
        "<a href=\"https://colab.research.google.com/github/CAnneLogue/IST-210-Repository/blob/master/210FirstDay.ipynb\" target=\"_parent\"><img src=\"https://colab.research.google.com/assets/colab-badge.svg\" alt=\"Open In Colab\"/></a>"
      ]
    },
    {
      "cell_type": "code",
      "metadata": {
        "id": "_Jn4484gzZKp",
        "colab_type": "code",
        "colab": {
          "base_uri": "https://localhost:8080/",
          "height": 35
        },
        "outputId": "f252e7be-8492-4d3c-929d-09ae637ec7f6"
      },
      "source": [
        "2+2"
      ],
      "execution_count": 1,
      "outputs": [
        {
          "output_type": "execute_result",
          "data": {
            "text/plain": [
              "4"
            ]
          },
          "metadata": {
            "tags": []
          },
          "execution_count": 1
        }
      ]
    },
    {
      "cell_type": "markdown",
      "metadata": {
        "id": "w_PxBMTXz9Yv",
        "colab_type": "text"
      },
      "source": [
        "This is my first notebook!"
      ]
    },
    {
      "cell_type": "markdown",
      "metadata": {
        "id": "itkUeynA0rkM",
        "colab_type": "text"
      },
      "source": [
        "# this is a header\n",
        "### adding more number signs makes it smaller"
      ]
    },
    {
      "cell_type": "markdown",
      "metadata": {
        "id": "Vqlrc8fB4NGz",
        "colab_type": "text"
      },
      "source": [
        "![alt text](https://raw.githubusercontent.com/CAnneLogue/IST-210-Repository/master/Introduction/Screenshot%20(11).png)"
      ]
    },
    {
      "cell_type": "markdown",
      "metadata": {
        "id": "Co8qnRGK0toV",
        "colab_type": "text"
      },
      "source": [
        "this is **bold**"
      ]
    }
  ]
}